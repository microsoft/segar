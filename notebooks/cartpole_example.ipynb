{
 "cells": [
  {
   "cell_type": "code",
   "execution_count": null,
   "id": "f95b5b44-fb5b-42ea-adf3-105e2f1af90d",
   "metadata": {},
   "outputs": [],
   "source": [
    "from IPython.display import Image\n",
    "\n",
    "from segar.mdps import MDP\n",
    "from segar.sim import Simulator\n",
    "from segar.tasks.classic_control import CartPoleInitialization, CartPoleTask, CartPoleObservation, from_cartpole_basis\n",
    "from segar.tools.sample_trajectories import rollout, save_gif"
   ]
  }
 ],
 "metadata": {
  "kernelspec": {
   "display_name": "segar_env",
   "language": "python",
   "name": "segar_env"
  },
  "language_info": {
   "codemirror_mode": {
    "name": "ipython",
    "version": 3
   },
   "file_extension": ".py",
   "mimetype": "text/x-python",
   "name": "python",
   "nbconvert_exporter": "python",
   "pygments_lexer": "ipython3",
   "version": "3.9.12"
  }
 },
 "nbformat": 4,
 "nbformat_minor": 5
}
