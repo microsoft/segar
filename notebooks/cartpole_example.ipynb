{
 "cells": [
  {
   "cell_type": "code",
   "execution_count": 1,
   "id": "f95b5b44-fb5b-42ea-adf3-105e2f1af90d",
   "metadata": {},
   "outputs": [
    {
     "name": "stderr",
     "output_type": "stream",
     "text": [
      "/Users/rdevonhjelm/Code/segar/segar/factors/shapes.py:26: DeprecationWarning: Please use `ConvexHull` from the `scipy.spatial` namespace, the `scipy.spatial.qhull` namespace is deprecated.\n",
      "  from scipy.spatial.qhull import ConvexHull, Delaunay\n",
      "/Users/rdevonhjelm/Code/segar/segar/factors/shapes.py:26: DeprecationWarning: Please use `Delaunay` from the `scipy.spatial` namespace, the `scipy.spatial.qhull` namespace is deprecated.\n",
      "  from scipy.spatial.qhull import ConvexHull, Delaunay\n"
     ]
    }
   ],
   "source": [
    "from IPython.display import Image\n",
    "\n",
    "from segar.mdps import MDP\n",
    "from segar.sim import Simulator\n",
    "from segar.tasks.classic_control import CartPoleInitialization, CartPoleTask, CartPoleObservation, from_cartpole_basis\n",
    "from segar.tools.sample_trajectories import rollout, save_gif"
   ]
  },
  {
   "cell_type": "code",
   "execution_count": 2,
   "id": "f50205fd-e6cb-4f75-bf35-f80b85289565",
   "metadata": {},
   "outputs": [
    {
     "name": "stderr",
     "output_type": "stream",
     "text": [
      "/Users/rdevonhjelm/miniconda3-x86/envs/segar/lib/python3.9/site-packages/gym/core.py:51: DeprecationWarning: \u001b[33mWARN: The argument mode in render method is deprecated; use render_mode during environment initialization instead.\n",
      "See here for more information: https://www.gymlibrary.ml/content/api/\u001b[0m\n",
      "  deprecation(\n"
     ]
    },
    {
     "data": {
      "image/png": "[encoded data removed]",
      "text/plain": [
       "<IPython.core.display.Image object>"
      ]
     },
     "execution_count": 2,
     "metadata": {},
     "output_type": "execute_result"
    }
   ],
   "source": [
    "sim = Simulator(friction=0., gravity=9.8, framerate=50)\n",
    "\n",
    "initialization = CartPoleInitialization()\n",
    "cartpole_task = CartPoleTask(initialization)\n",
    "observations = CartPoleObservation()\n",
    "mdp = MDP(observations, cartpole_task, max_steps_per_episode=200, reset_renderer_every_call=True)\n",
    "imgs, trajectories = rollout(mdp, show_render=True)\n",
    "\n",
    "save_gif(imgs, out_path='cartpole.gif')\n",
    "Image(open('cartpole.gif','rb').read())"
   ]
  },
  {
   "cell_type": "code",
   "execution_count": 3,
   "id": "42176a67-9546-41ac-b9a9-b3e1160c3b3c",
   "metadata": {},
   "outputs": [
    {
     "name": "stdout",
     "output_type": "stream",
     "text": [
      "[-1.29183215e-08 -7.20421900e-07  2.13078427e-08  1.09519446e-06]\n",
      "[-6.02517857e-07 -2.94278227e-05  9.05123323e-07  4.41125429e-05]\n",
      "[-2.38212151e-06 -8.89988093e-05  3.57920926e-06  1.33727842e-04]\n",
      "[-4.19085278e-06 -9.04570527e-05  6.31870898e-06  1.36936540e-04]\n",
      "[-1.22290067e-07  2.03407647e-04  2.79692305e-07 -3.01932207e-04]\n",
      "[ 2.47636269e-05  1.24440015e-03 -3.69370939e-05 -1.86098087e-03]\n",
      "[ 0.00010026  0.0037749  -0.00014997 -0.0056516 ]\n",
      "[ 0.00027848  0.00891089 -0.00041651 -0.01332674]\n",
      "[ 0.0006429   0.01822054 -0.00095977 -0.02716315]\n",
      "[ 0.00131854  0.03378198 -0.00196115 -0.05006892]\n"
     ]
    },
    {
     "name": "stderr",
     "output_type": "stream",
     "text": [
      "/Users/rdevonhjelm/Code/segar/segar/__init__.py:29: UserWarning: Overwriting sim. This can have unexpected consequences if using old sim objects somewhere.\n",
      "  warnings.warn(\n",
      "/Users/rdevonhjelm/miniconda3-x86/envs/segar/lib/python3.9/site-packages/gym/envs/classic_control/cartpole.py:179: UserWarning: \u001b[33mWARN: You are calling 'step()' even though this environment has already returned terminated = True. You should always call 'reset()' once you receive 'terminated = True' -- any further steps are undefined behavior.\u001b[0m\n",
      "  logger.warn(\n"
     ]
    }
   ],
   "source": [
    "from gym.envs.classic_control import CartPoleEnv\n",
    "import numpy as np\n",
    "\n",
    "from segar.factors import Position, Velocity\n",
    "from segar.tasks.classic_control import Angle, AngularVelocity, from_cartpole_basis\n",
    "\n",
    "sim = Simulator(friction=0., gravity=9.8, framerate=50)\n",
    "\n",
    "initialization = CartPoleInitialization()\n",
    "cartpole_task = CartPoleTask(initialization)\n",
    "observations = CartPoleObservation()\n",
    "mdp = MDP(observations, cartpole_task, max_steps_per_episode=200, reset_renderer_every_call=True, stop_on_done=False)\n",
    "cartpole = sim.things['cartpole']\n",
    "\n",
    "env = CartPoleEnv()\n",
    "env.kinematics_integrator = None\n",
    "state = env.reset()\n",
    "with cartpole.in_place():\n",
    "    cartpole[Position] = np.array([0., from_cartpole_basis(state[0])])\n",
    "    cartpole[Velocity] = np.array([0., from_cartpole_basis(state[1], recenter=False)])\n",
    "    cartpole[Angle] = state[2]\n",
    "    cartpole[AngularVelocity] = state[3]\n",
    "\n",
    "assert np.allclose(mdp.observation(mdp.state), state)\n",
    "\n",
    "for i in range(10):\n",
    "    print(mdp.step(0)[0] - env.step(0)[0])\n"
   ]
  }
 ],
 "metadata": {
  "kernelspec": {
   "display_name": "segar_env",
   "language": "python",
   "name": "segar_env"
  },
  "language_info": {
   "codemirror_mode": {
    "name": "ipython",
    "version": 3
   },
   "file_extension": ".py",
   "mimetype": "text/x-python",
   "name": "python",
   "nbconvert_exporter": "python",
   "pygments_lexer": "ipython3",
   "version": "3.9.12"
  }
 },
 "nbformat": 4,
 "nbformat_minor": 5
}
