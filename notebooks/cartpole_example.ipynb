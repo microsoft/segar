{
 "cells": [
  {
   "cell_type": "code",
   "execution_count": 1,
   "id": "f95b5b44-fb5b-42ea-adf3-105e2f1af90d",
   "metadata": {},
   "outputs": [
    {
     "name": "stderr",
     "output_type": "stream",
     "text": [
      "/Users/rdevonhjelm/Code/segar/segar/factors/shapes.py:26: DeprecationWarning: Please use `ConvexHull` from the `scipy.spatial` namespace, the `scipy.spatial.qhull` namespace is deprecated.\n",
      "  from scipy.spatial.qhull import ConvexHull, Delaunay\n",
      "/Users/rdevonhjelm/Code/segar/segar/factors/shapes.py:26: DeprecationWarning: Please use `Delaunay` from the `scipy.spatial` namespace, the `scipy.spatial.qhull` namespace is deprecated.\n",
      "  from scipy.spatial.qhull import ConvexHull, Delaunay\n"
     ]
    }
   ],
   "source": [
    "from IPython.display import Image\n",
    "\n",
    "from segar.mdps import MDP\n",
    "from segar.sim import Simulator\n",
    "from segar.tasks.classic_control import CartPoleInitialization, CartPoleTask, CartPoleObservation, from_cartpole_basis\n",
    "from segar.tools.sample_trajectories import rollout, save_gif"
   ]
  },
  {
   "cell_type": "code",
   "execution_count": 2,
   "id": "f50205fd-e6cb-4f75-bf35-f80b85289565",
   "metadata": {},
   "outputs": [
    {
     "name": "stderr",
     "output_type": "stream",
     "text": [
      "/Users/rdevonhjelm/miniconda3-x86/envs/segar/lib/python3.9/site-packages/gym/core.py:51: DeprecationWarning: \u001b[33mWARN: The argument mode in render method is deprecated; use render_mode during environment initialization instead.\n",
      "See here for more information: https://www.gymlibrary.ml/content/api/\u001b[0m\n",
      "  deprecation(\n"
     ]
    },
    {
     "data": {
      "image/png": "[encoded data removed]",
      "text/plain": [
       "<IPython.core.display.Image object>"
      ]
     },
     "execution_count": 2,
     "metadata": {},
     "output_type": "execute_result"
    }
   ],
   "source": [
    "sim = Simulator(friction=0., gravity=9.8, framerate=50)\n",
    "\n",
    "initialization = CartPoleInitialization()\n",
    "cartpole_task = CartPoleTask(initialization)\n",
    "observations = CartPoleObservation()\n",
    "mdp = MDP(observations, cartpole_task, max_steps_per_episode=200, reset_renderer_every_call=True)\n",
    "imgs, trajectories = rollout(mdp, show_render=True)\n",
    "\n",
    "save_gif(imgs, out_path='cartpole.gif')\n",
    "Image(open('cartpole.gif','rb').read())"
   ]
  },
  {
   "cell_type": "code",
   "execution_count": 3,
   "id": "42176a67-9546-41ac-b9a9-b3e1160c3b3c",
   "metadata": {},
   "outputs": [
    {
     "name": "stdout",
     "output_type": "stream",
     "text": [
      "[-1.28418143e-08 -5.52683757e-07  1.48307527e-08  8.23494020e-07]\n",
      "[-2.62838612e-07 -1.25445434e-05  3.91945582e-07  1.87886862e-05]\n",
      "[-1.17906348e-06 -4.57441879e-05  1.76674357e-06  6.87217387e-05]\n",
      "[-1.82608137e-06 -3.23732467e-05  2.74986317e-06  4.91443383e-05]\n",
      "[ 2.74363302e-06  2.28545325e-04 -4.07447100e-06 -3.41261412e-04]\n",
      "[ 2.54573345e-05  1.13561057e-03 -3.81007084e-05 -1.70105855e-03]\n",
      "[ 9.26481435e-05  3.35921262e-03 -1.38788064e-04 -5.03421879e-03]\n",
      "[ 0.00025112  0.00792375 -0.000376   -0.0118609 ]\n",
      "[ 0.00057686  0.01628749 -0.00086213 -0.02430635]\n",
      "[ 0.001185    0.03040682 -0.00176471 -0.04512835]\n"
     ]
    },
    {
     "name": "stderr",
     "output_type": "stream",
     "text": [
      "/Users/rdevonhjelm/Code/segar/segar/__init__.py:29: UserWarning: Overwriting sim. This can have unexpected consequences if using old sim objects somewhere.\n",
      "  warnings.warn(\n",
      "/Users/rdevonhjelm/miniconda3-x86/envs/segar/lib/python3.9/site-packages/gym/envs/classic_control/cartpole.py:179: UserWarning: \u001b[33mWARN: You are calling 'step()' even though this environment has already returned terminated = True. You should always call 'reset()' once you receive 'terminated = True' -- any further steps are undefined behavior.\u001b[0m\n",
      "  logger.warn(\n"
     ]
    }
   ],
   "source": [
    "from gym.envs.classic_control import CartPoleEnv\n",
    "import numpy as np\n",
    "\n",
    "from segar.factors import Position, Velocity\n",
    "from segar.tasks.classic_control import Angle, AngularVelocity, from_cartpole_basis\n",
    "\n",
    "sim = Simulator(friction=0., gravity=9.8, framerate=50)\n",
    "\n",
    "initialization = CartPoleInitialization()\n",
    "cartpole_task = CartPoleTask(initialization)\n",
    "observations = CartPoleObservation()\n",
    "mdp = MDP(observations, cartpole_task, max_steps_per_episode=200, reset_renderer_every_call=True, stop_on_done=False)\n",
    "cartpole = sim.things['cartpole']\n",
    "\n",
    "env = CartPoleEnv()\n",
    "env.kinematics_integrator = None\n",
    "state = env.reset()\n",
    "with cartpole.in_place():\n",
    "    cartpole[Position] = np.array([0., from_cartpole_basis(state[0])])\n",
    "    cartpole[Velocity] = np.array([0., from_cartpole_basis(state[1], recenter=False)])\n",
    "    cartpole[Angle] = state[2]\n",
    "    cartpole[AngularVelocity] = state[3]\n",
    "\n",
    "assert np.allclose(mdp.observation(mdp.state), state)\n",
    "\n",
    "for i in range(10):\n",
    "    print(mdp.step(0)[0] - env.step(0)[0])\n"
   ]
  }
 ],
 "metadata": {
  "kernelspec": {
   "display_name": "segar_env",
   "language": "python",
   "name": "segar_env"
  },
  "language_info": {
   "codemirror_mode": {
    "name": "ipython",
    "version": 3
   },
   "file_extension": ".py",
   "mimetype": "text/x-python",
   "name": "python",
   "nbconvert_exporter": "python",
   "pygments_lexer": "ipython3",
   "version": "3.9.12"
  }
 },
 "nbformat": 4,
 "nbformat_minor": 5
}
