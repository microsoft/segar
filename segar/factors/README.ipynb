{
 "cells": [
  {
   "cell_type": "markdown",
   "metadata": {
    "jupyter": {
     "outputs_hidden": true
    }
   },
   "source": [
    "# Factors tutorial\n",
    "\n",
    "This tutorial covers the atomic units of The Sandbox Environment for Generalizable Agent Research (SEGAR): the factors.\n",
    "Factors make up the underlying state space, and their values make up the underlying states.\n",
    "Factors are _types_, and many of them inherit from built-in types, such as `float`, `int`, `bool`, etc.\n",
    "\n",
    "### Factors\n",
    "Here are some basic examples of creating and manipulating factors:"
   ]
  },
  {
   "cell_type": "code",
   "execution_count": 1,
   "metadata": {},
   "outputs": [],
   "source": [
    "from segar.factors import Charge, Mass, Alive, Position, Factor\n",
    "c1 = Charge(0.3)\n",
    "c2 = Charge(0.3)\n",
    "m = Mass(0.3)\n",
    "a = Alive(True)\n",
    "p = Position([0.1, 0.1])"
   ]
  },
  {
   "cell_type": "code",
   "execution_count": 2,
   "metadata": {},
   "outputs": [
    {
     "name": "stdout",
     "output_type": "stream",
     "text": [
      "Charge(0.3) Charge(0.3)\n"
     ]
    }
   ],
   "source": [
    "print(c1, c2)"
   ]
  },
  {
   "cell_type": "markdown",
   "metadata": {},
   "source": [
    "Factors can take on values, so they can be compared and operated on, but they are _unique_"
   ]
  },
  {
   "cell_type": "code",
   "execution_count": 3,
   "metadata": {},
   "outputs": [
    {
     "name": "stdout",
     "output_type": "stream",
     "text": [
      "True False True 0.6 Position([0.4 0.4])\n"
     ]
    }
   ],
   "source": [
    "print(c1 == c2, c1 is c2, c1 == m, c1 + m, p + m)"
   ]
  },
  {
   "cell_type": "markdown",
   "metadata": {},
   "source": [
    "The base type `Factor` is a generic type:"
   ]
  },
  {
   "cell_type": "code",
   "execution_count": 4,
   "metadata": {},
   "outputs": [
    {
     "name": "stdout",
     "output_type": "stream",
     "text": [
      "Factor(0.4) Charge(0.7)\n"
     ]
    }
   ],
   "source": [
    "f = Factor[float](0.4)\n",
    "print(f, f + c1)"
   ]
  },
  {
   "cell_type": "markdown",
   "metadata": {},
   "source": [
    "### Factor Containers\n",
    "In order to be useable by the sim, sets factors must be encapsulated in a container called a `FactorContainer`:"
   ]
  },
  {
   "cell_type": "code",
   "execution_count": 5,
   "metadata": {},
   "outputs": [
    {
     "name": "stdout",
     "output_type": "stream",
     "text": [
      "FactorContainer({Charge: Charge(0.3), Position: Position([0.1 0.3]), Alive: Alive(False)})\n"
     ]
    }
   ],
   "source": [
    "from factors import FactorContainer\n",
    "fc = FactorContainer({Charge: 0.3, Position: [.1, .3], Alive: False})\n",
    "print(fc)"
   ]
  },
  {
   "cell_type": "markdown",
   "metadata": {},
   "source": [
    "Factor containers are basically dictionaries with Factor type keys and Factor values. We can check if a FactorContainer contains a factor or not:"
   ]
  },
  {
   "cell_type": "code",
   "execution_count": 6,
   "metadata": {},
   "outputs": [
    {
     "name": "stdout",
     "output_type": "stream",
     "text": [
      "True False\n"
     ]
    }
   ],
   "source": [
    "print(fc.has_factor(Charge), fc.has_factor(Mass))"
   ]
  },
  {
   "cell_type": "markdown",
   "metadata": {
    "tags": []
   },
   "source": [
    "Changing factors of their containers is protected:"
   ]
  },
  {
   "cell_type": "code",
   "execution_count": 7,
   "metadata": {},
   "outputs": [
    {
     "name": "stdout",
     "output_type": "stream",
     "text": [
      "Error message: In-place operations protected.\n"
     ]
    }
   ],
   "source": [
    "try:\n",
    "    fc[Charge] = 0.4\n",
    "    raise RuntimeError('Should not get here')\n",
    "except ValueError as e:\n",
    "    print('Error message:', e)\n"
   ]
  },
  {
   "cell_type": "markdown",
   "metadata": {},
   "source": [
    "But in-place operations can be allowed:"
   ]
  },
  {
   "cell_type": "code",
   "execution_count": 8,
   "metadata": {},
   "outputs": [
    {
     "name": "stdout",
     "output_type": "stream",
     "text": [
      "Charge(0.7)\n"
     ]
    }
   ],
   "source": [
    "with fc.in_place():\n",
    "    fc[Charge] += 0.4\n",
    "print(fc[Charge])"
   ]
  },
  {
   "cell_type": "markdown",
   "metadata": {},
   "source": [
    "### Random factor generation\n",
    "SEGAR comes with factor generation from random numbers. This can help generate distributions of factors used for initialization, or even can be used to generate stochastic transition functions:"
   ]
  },
  {
   "cell_type": "code",
   "execution_count": 9,
   "metadata": {},
   "outputs": [
    {
     "name": "stdout",
     "output_type": "stream",
     "text": [
      "Factor(0.7174490241465336) Factor(-0.0519678877226635) Factor([ 0.30422966 -0.48938501])\n"
     ]
    }
   ],
   "source": [
    "from segar.factors import UniformNoise, GaussianNoise, GaussianNoise2D\n",
    "u1 = UniformNoise(0., 1.)  # Uniform from 0 to 1\n",
    "u2 = UniformNoise(0.1, 1.)  # Uniform from 0.1 to 1\n",
    "g1 = GaussianNoise(0., 0.1)  # Normal distribution with 0 mean and 0.1 std\n",
    "g2 = GaussianNoise(0.1, 0.2)  # Normal distribution with 0.1 mean and 0.2 std\n",
    "g2D = GaussianNoise2D([0., 0.1], [0.1, 0.2])  # 2D normal distribution\n",
    "\n",
    "print(u1.sample(), g1.sample(), g2D.sample())"
   ]
  },
  {
   "cell_type": "markdown",
   "metadata": {},
   "source": [
    "SEGAR allows the researcher to compare distributions (via the Wasserstein distance), ultimately to measure how different different sets of tasks are (say between train and test in a generalization experiment)."
   ]
  },
  {
   "cell_type": "code",
   "execution_count": 11,
   "metadata": {},
   "outputs": [
    {
     "name": "stdout",
     "output_type": "stream",
     "text": [
      "0.000995363069815011 0.0586407279494164 0.53618311310831 0.0 0.02715728752538099\n"
     ]
    }
   ],
   "source": [
    "print(u1.w2_distance(u1), u1.w2_distance(u2), u1.w2_distance(g1), g1.w2_distance(g1), g1.w2_distance(g2))"
   ]
  },
  {
   "cell_type": "markdown",
   "metadata": {},
   "source": [
    "Note that the distance of `u1` with itself is not measured as zero. This is because we are using a sample-based approximation for the Wasserstein-2 in most cases. More accurate measurement of the W2 can be accomplished by increasing the number of samples used. This increases computational cost; however, as these measures are only intended to be used to compare tasks, this can be done separate of running agents for analysis and results."
   ]
  },
  {
   "cell_type": "markdown",
   "metadata": {},
   "source": [
    "There are a number of distributional methods available for each of these noise factors, such as cdfs, pdfs, etc. One can even access the corresponding scipy distribution objects for other distributional analysis:"
   ]
  },
  {
   "cell_type": "code",
   "execution_count": 13,
   "metadata": {},
   "outputs": [
    {
     "name": "stdout",
     "output_type": "stream",
     "text": [
      "<scipy.stats._distn_infrastructure.rv_frozen object at 0x7fa568f7d220>\n"
     ]
    }
   ],
   "source": [
    "print(u1.scipy_dist)"
   ]
  },
  {
   "cell_type": "code",
   "execution_count": 14,
   "metadata": {},
   "outputs": [
    {
     "name": "stdout",
     "output_type": "stream",
     "text": [
      "0.38958346068677663\n"
     ]
    }
   ],
   "source": [
    "print(u1.cdf(u1.sample().value))"
   ]
  },
  {
   "cell_type": "code",
   "execution_count": null,
   "metadata": {},
   "outputs": [],
   "source": []
  }
 ],
 "metadata": {
  "kernelspec": {
   "display_name": "segar",
   "language": "python",
   "name": "segar"
  },
  "language_info": {
   "codemirror_mode": {
    "name": "ipython",
    "version": 3
   },
   "file_extension": ".py",
   "mimetype": "text/x-python",
   "name": "python",
   "nbconvert_exporter": "python",
   "pygments_lexer": "ipython3",
   "version": "3.9.7"
  }
 },
 "nbformat": 4,
 "nbformat_minor": 4
}
