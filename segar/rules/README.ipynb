{
 "cells": [
  {
   "cell_type": "markdown",
   "metadata": {
    "jupyter": {
     "outputs_hidden": true
    }
   },
   "source": [
    "# Rules and relations\n",
    "\n",
    "SEGAR provides a framework on the simulator rules, which determine how states transition from one to another over subsequent time steps. SEGAR comes with a set of built-in rules for the simulator, but these can be changed at the user's disgression.\n",
    "\n",
    "### Rules\n",
    "Rules are functions from one set of factors to another. Consider the following built-in rules:"
   ]
  },
  {
   "cell_type": "code",
   "execution_count": 1,
   "metadata": {},
   "outputs": [
    {
     "name": "stdout",
     "output_type": "stream",
     "text": [
      "segar.rules.transitions.Aggregate[segar.factors.arrays.Acceleration] <- lorentz_law([(Position, Velocity, Charge, Magnetism), (Position, Velocity, Charge, Mass, Acceleration)])\n",
      "segar.rules.transitions.Differential[segar.factors.arrays.Position] <- move([Position, Velocity, MinVelocity])\n",
      "segar.rules.transitions.Aggregate[segar.factors.arrays.Acceleration] <- apply_friction([(Mass, Velocity, Acceleration), (Friction,), Gravity])\n"
     ]
    }
   ],
   "source": [
    "from segar.rules import lorentz_law, move, apply_friction\n",
    "print(lorentz_law)\n",
    "print(move)\n",
    "print(apply_friction)"
   ]
  },
  {
   "cell_type": "markdown",
   "metadata": {},
   "source": [
    "These rules all apply on sets of (sets of) factors (see the factors README for more details). If the rule contains a single set of factors, this applies to a single Entity (see the things README for more details). If a rule contains multiple sets, then the rule applies to multiple things.\n",
    "\n",
    "Rules apply automatic pattern matching, such that a rule will not return a valid change in factor unless the input pattern matches the factors contained in the inputs and the parameters:"
   ]
  },
  {
   "cell_type": "code",
   "execution_count": 2,
   "metadata": {},
   "outputs": [
    {
     "name": "stdout",
     "output_type": "stream",
     "text": [
      "dict_keys([Charge, Mass, Position, Shape, Size, Visible, Order, Label, Text, ID, Collides, Mobile, Velocity, Density, Magnetism, StoredEnergy, InfiniteEnergy, Alive, Done, Acceleration])\n",
      "dict_keys([Friction, Shape, Size, Position, Visible, Order, Label, Text, ID, Floor, Heat])\n"
     ]
    }
   ],
   "source": [
    "from segar.factors import Position, Charge, Mass, Velocity, Friction\n",
    "from segar.sim import Simulator\n",
    "from segar.things import Object, Tile\n",
    "from segar.parameters import Gravity, MinVelocity\n",
    "\n",
    "sim = Simulator()  # Must initialize sim before creating things.\n",
    "\n",
    "o = Object(initial_factors={Charge: 0.1, Mass: 1.0, Position: [-0.5, 0.5]},\n",
    "           sim=sim)\n",
    "print(o.keys())\n",
    "o2 = Object(initial_factors={Charge: 0.2, Mass: 2.0, Velocity: [1.0, 1.0]}, sim=sim)\n",
    "t = Tile(initial_factors={Friction: 1.0}, sim=sim)\n",
    "print(t.keys())\n",
    "g = Gravity(1.0)  # Gravity parameter\n",
    "min_vel = MinVelocity(1e-5)  # Min velocity parameter, for allowing objects to \"stop\""
   ]
  },
  {
   "cell_type": "markdown",
   "metadata": {},
   "source": [
    "Note that the objects contain factors needed for the lorentz law, but not the tile. The tile contains the factors needed for friction. If we pass the wrong things to lorentz law it will return `DidNotMatch`."
   ]
  },
  {
   "cell_type": "code",
   "execution_count": 3,
   "metadata": {},
   "outputs": [
    {
     "name": "stdout",
     "output_type": "stream",
     "text": [
      "DidNotMatch(segar.rules.transitions.Aggregate[segar.factors.arrays.Acceleration] <- lorentz_law([(Position, Velocity, Charge, Magnetism), (Position, Velocity, Charge, Mass, Acceleration)]), (Object(id=ID(0)),))\n",
      "DidNotMatch(segar.rules.transitions.Aggregate[segar.factors.arrays.Acceleration] <- lorentz_law([(Position, Velocity, Charge, Magnetism), (Position, Velocity, Charge, Mass, Acceleration)]), (Object(id=ID(0)), Tile(id=ID(2))))\n"
     ]
    }
   ],
   "source": [
    "print(lorentz_law(o))\n",
    "print(lorentz_law(o, t))"
   ]
  },
  {
   "cell_type": "markdown",
   "metadata": {},
   "source": [
    "However, if we pass the correct inputs:"
   ]
  },
  {
   "cell_type": "code",
   "execution_count": 4,
   "metadata": {},
   "outputs": [
    {
     "name": "stdout",
     "output_type": "stream",
     "text": [
      "Acceleration([0. 0.]) += [ 0.01414214 -0.01414214] <class 'segar.rules.transitions.Aggregate'>\n",
      "Acceleration([0. 0.]) += [-0.35355339 -0.35355339] <class 'segar.rules.transitions.Aggregate'>\n"
     ]
    }
   ],
   "source": [
    "l_apply = lorentz_law(o, o2)\n",
    "print(l_apply, type(l_apply))\n",
    "f_apply = apply_friction(o2, t, g)\n",
    "print(f_apply, type(f_apply))"
   ]
  },
  {
   "cell_type": "markdown",
   "metadata": {},
   "source": [
    "The output of these applications are `Aggregate` objects, which inform the sim to aggregate all rules that apply to the target factor as the new value. In this case, what is aggregating is the acceleration of the object, corresponding to the addition of forces.\n",
    "\n",
    "Rules can also return differentials over time, such as what happens when we apply velocity to change position:"
   ]
  },
  {
   "cell_type": "code",
   "execution_count": 5,
   "metadata": {},
   "outputs": [
    {
     "name": "stdout",
     "output_type": "stream",
     "text": [
      "Position([0. 0.]) += Δt [1. 1.] <class 'segar.rules.transitions.Differential'>\n"
     ]
    }
   ],
   "source": [
    "m_apply = move(o2, min_vel)\n",
    "print(m_apply, type(m_apply))"
   ]
  },
  {
   "cell_type": "markdown",
   "metadata": {},
   "source": [
    "This rule application is a `Differential`, which says that the position will change in the direction of the velocity, integrated over the time interval, assuming that the velocity is constant over said interval."
   ]
  },
  {
   "cell_type": "markdown",
   "metadata": {},
   "source": [
    "Finally, there is a `SetFactor` application, which informs the sim of a new value for a factor. \n",
    "Given a set of applications provided from the rules, the sim will decide which rules to apply and when.\n",
    "Roughly speaking:\n",
    "1) The sim will first apply all valid rules to everything but position and velocity.\n",
    "2) Then the sim will apply all rules to velocity\n",
    "3) Finally, the sim will apply rules to positions, correcting for any collisions that might occur.\n",
    "* The sim will choose, if the different rules apply to the same factor, which rules to apply. `SetFactor` is applied over `Aggregate` and `Differential`. Additional rule conditions can increase the weight of a rule application over others."
   ]
  },
  {
   "cell_type": "markdown",
   "metadata": {},
   "source": [
    "### Rule design\n",
    "\n",
    "SEGAR allows users to design their own rules, then add them to the sim. Let's design a custom rule: "
   ]
  },
  {
   "cell_type": "code",
   "execution_count": 6,
   "metadata": {},
   "outputs": [
    {
     "name": "stdout",
     "output_type": "stream",
     "text": [
      "segar.rules.transitions.Differential[segar.factors.arrays.Velocity] <- fast_loses_mass([Mass, Velocity])\n"
     ]
    }
   ],
   "source": [
    "from segar.rules import TransitionFunction, Differential\n",
    "\n",
    "@TransitionFunction\n",
    "def fast_loses_mass(m: Mass, v: Velocity) -> Differential[Velocity]:\n",
    "    m_new = m * (1. - max(v.norm(), 1.))  # Scale the mass by the velocity\n",
    "    return Differential[Velocity](m, m_new)\n",
    "\n",
    "print(fast_loses_mass)"
   ]
  },
  {
   "cell_type": "markdown",
   "metadata": {},
   "source": [
    "This is a strange rule, but it helps demonstrate the flexibility for creating custom rules in SEGAR. Let's see how it would be applied:"
   ]
  },
  {
   "cell_type": "code",
   "execution_count": 7,
   "metadata": {},
   "outputs": [
    {
     "data": {
      "text/plain": [
       "Mass(2.0) += Δt -0.8284271247461903"
      ]
     },
     "execution_count": 7,
     "metadata": {},
     "output_type": "execute_result"
    }
   ],
   "source": [
    "fast_loses_mass(o2)"
   ]
  },
  {
   "cell_type": "markdown",
   "metadata": {},
   "source": [
    "Note: Some care needs to be taken when applying rules, as they may cause factors to do unusual things (such as become negative).\n",
    "\n",
    "Finally, we can add the rule to our sim:"
   ]
  },
  {
   "cell_type": "code",
   "execution_count": 8,
   "metadata": {},
   "outputs": [
    {
     "name": "stdout",
     "output_type": "stream",
     "text": [
      "[segar.rules.transitions.Differential[segar.factors.arrays.Position] <- move([Position, Velocity, MinVelocity]), segar.rules.transitions.Aggregate[segar.factors.arrays.Acceleration] <- lorentz_law([(Position, Velocity, Charge, Magnetism), (Position, Velocity, Charge, Mass, Acceleration)]), segar.rules.transitions.Aggregate[segar.factors.arrays.Acceleration] <- apply_friction([(Mass, Velocity, Acceleration), (Friction,), Gravity]), segar.rules.transitions.SetFactor[segar.factors.number_factors.Mass] <- apply_burn([(Mass, Mobile), (Heat,)]), typing.Tuple[segar.rules.transitions.SetFactor[segar.factors.arrays.Velocity], segar.rules.transitions.SetFactor[segar.factors.arrays.Acceleration]] <- stop_condition([(Mobile, Alive, Velocity, Acceleration)]), typing.Tuple[segar.rules.transitions.SetFactor[segar.factors.number_factors.Mass], segar.rules.transitions.SetFactor[segar.factors.arrays.Velocity], segar.rules.transitions.SetFactor[segar.factors.bools.Alive], segar.rules.transitions.SetFactor[segar.factors.arrays.Acceleration], segar.rules.transitions.SetFactor[segar.factors.bools.Visible]] <- kill_condition([Mass, Velocity, Visible, Acceleration, Alive, MinMass]), typing.Tuple[segar.rules.transitions.SetFactor[segar.factors.bools.Done], segar.rules.transitions.SetFactor[segar.factors.bools.Visible], segar.rules.transitions.SetFactor[segar.factors.bools.Mobile]] <- consume([(Mobile, Done, Visible), (Consumes,)]), segar.rules.transitions.Differential[segar.factors.arrays.Velocity] <- accelerate([Velocity, Acceleration]), segar.rules.transitions.Differential[segar.factors.arrays.Velocity] <- fast_loses_mass([Mass, Velocity])]\n"
     ]
    }
   ],
   "source": [
    "sim.add_rule(fast_loses_mass)\n",
    "print(sim.rules)"
   ]
  },
  {
   "cell_type": "markdown",
   "metadata": {},
   "source": [
    "Now verify that this rule indeed applies to the mass:"
   ]
  },
  {
   "cell_type": "code",
   "execution_count": 9,
   "metadata": {},
   "outputs": [
    {
     "name": "stdout",
     "output_type": "stream",
     "text": [
      "before:  Mass(1.0) Mass(2.0)\n",
      "after:  Mass(1.0) Mass(1.991715728752538)\n"
     ]
    }
   ],
   "source": [
    "print('before: ', o[Mass], o2[Mass])\n",
    "sim.step()\n",
    "print('after: ', o[Mass], o2[Mass])"
   ]
  },
  {
   "cell_type": "markdown",
   "metadata": {},
   "source": [
    "There is additional functionality in rules, including adding conditions. See the source code for more details."
   ]
  },
  {
   "cell_type": "code",
   "execution_count": null,
   "metadata": {},
   "outputs": [],
   "source": []
  }
 ],
 "metadata": {
  "kernelspec": {
   "display_name": "Python 3 (ipykernel)",
   "language": "python",
   "name": "python3"
  },
  "language_info": {
   "codemirror_mode": {
    "name": "ipython",
    "version": 3
   },
   "file_extension": ".py",
   "mimetype": "text/x-python",
   "name": "python",
   "nbconvert_exporter": "python",
   "pygments_lexer": "ipython3",
   "version": "3.9.7"
  }
 },
 "nbformat": 4,
 "nbformat_minor": 4
}
